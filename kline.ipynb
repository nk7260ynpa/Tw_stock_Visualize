{
 "cells": [
  {
   "cell_type": "code",
   "execution_count": null,
   "id": "959d62ef",
   "metadata": {},
   "outputs": [],
   "source": [
    "import pandas as pd\n",
    "import matplotlib.pyplot as plt\n",
    "from sqlalchemy import text\n",
    "import mplfinance as mpf\n",
    "\n",
    "from routers import MySQLRouter"
   ]
  },
  {
   "cell_type": "code",
   "execution_count": null,
   "id": "b4c5306e",
   "metadata": {},
   "outputs": [],
   "source": [
    "HOST = \"localhost:3306\"\n",
    "USER = \"root\"\n",
    "PASSWORD = \"stock\"\n",
    "DBNAME = \"TWSE\""
   ]
  },
  {
   "cell_type": "code",
   "execution_count": null,
   "id": "9e1c0462",
   "metadata": {},
   "outputs": [],
   "source": [
    "conn = MySQLRouter(HOST, USER, PASSWORD, DBNAME).mysql_conn\n",
    "query = \"\"\"\n",
    "    SELECT * \n",
    "    FROM DailyPrice\n",
    "    WHERE Date BETWEEN '2025-01-01' AND '2025-06-20' \n",
    "    AND SecurityCode = '2330'\n",
    "\"\"\"\n",
    "results = conn.execute(text(query)).fetchall()\n",
    "conn.close()"
   ]
  },
  {
   "cell_type": "code",
   "execution_count": null,
   "id": "819e9765",
   "metadata": {},
   "outputs": [],
   "source": [
    "df = pd.DataFrame(results)"
   ]
  },
  {
   "cell_type": "code",
   "execution_count": null,
   "id": "b1d06553",
   "metadata": {},
   "outputs": [],
   "source": [
    "df['Date'] = pd.to_datetime(df['Date'])\n",
    "columns_to_convert = ['TradeVolume', 'OpeningPrice', 'HighestPrice', 'LowestPrice', 'ClosingPrice']\n",
    "df[columns_to_convert] = df[columns_to_convert].astype(float)"
   ]
  },
  {
   "cell_type": "code",
   "execution_count": null,
   "id": "e43ed9e3",
   "metadata": {},
   "outputs": [],
   "source": [
    "df.rename({\"Date\": \"date\",\n",
    "           \"TradeVolume\": \"volume\", \n",
    "           \"OpeningPrice\": \"open\",\n",
    "           \"HighestPrice\": \"high\",\n",
    "           \"LowestPrice\": \"low\",\n",
    "           \"ClosingPrice\": \"close\"}, axis=1, inplace=True)"
   ]
  },
  {
   "cell_type": "code",
   "execution_count": null,
   "id": "b70bfc66",
   "metadata": {},
   "outputs": [],
   "source": [
    "df.set_index('date', inplace=True)"
   ]
  },
  {
   "cell_type": "code",
   "execution_count": null,
   "id": "f8f6a4db",
   "metadata": {},
   "outputs": [],
   "source": [
    "mpf.plot(df, type='candle', style='yahoo',\n",
    "         title='2330 Daily Price',\n",
    "         ylabel='Price (TWD)',\n",
    "         volume=True,\n",
    "         mav=(5, 10, 20),\n",
    "         figratio=(16, 9),\n",
    "         figscale=1.2)\n",
    "plt.show()"
   ]
  },
  {
   "cell_type": "code",
   "execution_count": null,
   "id": "1e514c03",
   "metadata": {},
   "outputs": [],
   "source": []
  }
 ],
 "metadata": {
  "kernelspec": {
   "display_name": "Torch",
   "language": "python",
   "name": "python3"
  },
  "language_info": {
   "codemirror_mode": {
    "name": "ipython",
    "version": 3
   },
   "file_extension": ".py",
   "mimetype": "text/x-python",
   "name": "python",
   "nbconvert_exporter": "python",
   "pygments_lexer": "ipython3",
   "version": "3.12.7"
  }
 },
 "nbformat": 4,
 "nbformat_minor": 5
}
